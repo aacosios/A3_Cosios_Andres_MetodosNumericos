{
 "cells": [
  {
   "cell_type": "markdown",
   "id": "016ce5ff",
   "metadata": {},
   "source": [
    "# Universidad de las Fuerzas Armadas ESPE\n",
    "\n",
    "## Andrés Cosios Pineda\n",
    "\n",
    "## Actividad No 3"
   ]
  },
  {
   "cell_type": "markdown",
   "id": "f9a385cc",
   "metadata": {},
   "source": [
    "## Ejercicios\n",
    "## 1. Para el sistema lineal\n",
    "![EJ1](EJ1.jpg)\n",
    "## Encuentre los valores de x1, x2, x3, x4 utilizando sustitución progresiva. Encuentre la descomposición LU del sistema anterior. ¿Qué puede concluir?"
   ]
  },
  {
   "cell_type": "code",
   "execution_count": 42,
   "id": "e6911217",
   "metadata": {},
   "outputs": [
    {
     "name": "stdout",
     "output_type": "stream",
     "text": [
      "las soluciones: X4, x3, x2, x1 son:\n",
      "[-1.  0. -3.  2.]\n"
     ]
    }
   ],
   "source": [
    "import numpy as np\n",
    "import math\n",
    "a=np.array([[0.0,0.0,0.0,6.0],\n",
    "            [0.0,0.0,6.0,3.0],\n",
    "            [0.0,7.0,-2.0,4.0],\n",
    "            [21.0,9.0,-3.0,5.0]])\n",
    "b=np.array([12.0,-12.0,14.0,-2.0])\n",
    "p=np.linalg.solve(a,b)\n",
    "print (\"las soluciones: X4, x3, x2, x1 son:\")\n",
    "print(p)\n",
    "m=4\n",
    "u=np.zeros([m,m])\n"
   ]
  },
  {
   "cell_type": "code",
   "execution_count": 43,
   "id": "3884d16f",
   "metadata": {},
   "outputs": [
    {
     "name": "stdout",
     "output_type": "stream",
     "text": [
      "La matriz L es:\n",
      "[[1. 0. 0. 0.]\n",
      " [0. 1. 0. 0.]\n",
      " [0. 0. 1. 0.]\n",
      " [0. 0. 0. 1.]]\n",
      "\n",
      "La matriz U es:\n",
      "[[21.  9. -3.  5.]\n",
      " [ 0.  7. -2.  4.]\n",
      " [ 0.  0.  6.  3.]\n",
      " [ 0.  0.  0.  6.]]\n"
     ]
    }
   ],
   "source": [
    "import numpy as np\n",
    "from scipy.linalg import lu, lu_factor, lu_solve\n",
    "A=np.array([[0.0,0.0,0.0,6.0],\n",
    "            [0.0,0.0,6.0,3.0],\n",
    "            [0.0,7.0,-2.0,4.0],\n",
    "            [21.0,9.0,-3.0,5.0]])\n",
    "b=np.array([12.0,-12.0,14.0,-2.0])\n",
    "b.shape = (4, 1)\n",
    "\n",
    "P, L, U = lu(A)\n",
    "\n",
    "print('La matriz L es:')\n",
    "print(L)\n",
    "print()\n",
    "print('La matriz U es:')\n",
    "print(U)\n"
   ]
  },
  {
   "cell_type": "markdown",
   "id": "124944a0",
   "metadata": {},
   "source": [
    "### Se puede Concluir que por medio de un código y las librerías necesarias podemos calcular sistemas lineales de forma efectiva reduciendo el tiempo, de igual manera podemos factorizar o descomponer estos sistemas en LU es decir obtener descomponer la matriz de tal manera de obtener o bien los elementos superiores ceros o los inferiores y constituye un método eficaz para resolver sistemas de ecuaciones lineales."
   ]
  },
  {
   "cell_type": "markdown",
   "id": "c549e76b",
   "metadata": {},
   "source": [
    "## 2. Resuelva las siguientes matrices usando la descomposición de Cholesky\n",
    "![EJ2.jpg](EJ2.jpg)\n",
    "## Analice el caso y escriba sus conclusiones."
   ]
  },
  {
   "cell_type": "code",
   "execution_count": 44,
   "id": "43f73db1",
   "metadata": {},
   "outputs": [
    {
     "name": "stdout",
     "output_type": "stream",
     "text": [
      "[[2. 0. 0.]\n",
      " [3. 4. 0.]\n",
      " [5. 1. 6.]]\n"
     ]
    }
   ],
   "source": [
    "import numpy as np\n",
    "def cholesky(a):\n",
    "    a=np.array(a, float)\n",
    "    L=np.zeros_like(a)\n",
    "    n,_=np.shape(a)\n",
    "    for j in range (n):\n",
    "        for i in range (j,n):\n",
    "            if i==j:\n",
    "                sumk = 0\n",
    "                for k in range (j):\n",
    "                    sumk += L[i,k]**2\n",
    "                L[i,j]=np.sqrt(a[i,j]-sumk)\n",
    "            else:\n",
    "                sumk=0\n",
    "                for k in range (j):\n",
    "                    sumk +=L[i,k]*L[j,k]\n",
    "                L[i,j]=(a[i,j]-sumk)/L[j,j]\n",
    "    return L\n",
    "\n",
    "A=[[4,6,10],\n",
    "  [6,25,19],\n",
    "  [10,19,62]]\n",
    "L=cholesky(A)\n",
    "print(L)\n",
    "                "
   ]
  },
  {
   "cell_type": "code",
   "execution_count": 45,
   "id": "27b36f19",
   "metadata": {
    "scrolled": true
   },
   "outputs": [
    {
     "name": "stdout",
     "output_type": "stream",
     "text": [
      "[[ 2.  0.  0.]\n",
      " [ 3. nan  0.]\n",
      " [ 5. nan nan]]\n"
     ]
    },
    {
     "name": "stderr",
     "output_type": "stream",
     "text": [
      "<ipython-input-45-2263242911a7>:14: RuntimeWarning: invalid value encountered in sqrt\n",
      "  L[i,j]=np.sqrt(a[i,j]-sumk)\n"
     ]
    }
   ],
   "source": [
    "import numpy as np\n",
    "import pandas as pd\n",
    "import math\n",
    "def cholesky(a):\n",
    "    a=np.array(a, float)\n",
    "    L=np.zeros_like(a)\n",
    "    n,_=np.shape(a)\n",
    "    for j in range (n):\n",
    "        for i in range (j,n):\n",
    "            if i==j:\n",
    "                sumk = 0\n",
    "                for k in range (j):\n",
    "                    sumk += L[i,k]**2\n",
    "                L[i,j]=np.sqrt(a[i,j]-sumk)\n",
    "            else:\n",
    "                sumk=0\n",
    "                for k in range (j):\n",
    "                    sumk +=L[i,k]*L[j,k]\n",
    "                L[i,j]=(a[i,j]-sumk)/L[j,j]\n",
    "    return L\n",
    "\n",
    "B=np.array([[4,6,10],\n",
    "  [6,3,19],\n",
    "  [10,19,62]])\n",
    "L=cholesky(B)\n",
    "print(L)"
   ]
  },
  {
   "cell_type": "markdown",
   "id": "99872801",
   "metadata": {},
   "source": [
    "### La descomposición de Cholesky constituye un tipo de descomposición de matrices LU que consiste en la factorización en el producto de dos matrices. Es decir, igualas matrices cuadradas a una matriz con ceros por encima de la diagonal principal multiplicada por su matriz traspuesta con ceros por debajo de la diagonal principal.\n",
    "### Como podemos observar en e primer caso obtenemos la matriz superior con ceros y en el segundo generamos un error ya que al cambiar un numero de la primera matriz y el programa al realizar las operaciones encuentra valores invalidos.\n"
   ]
  },
  {
   "cell_type": "markdown",
   "id": "8c62d4f9",
   "metadata": {},
   "source": [
    "## 3. Utilice el método de Jacobi, Gauss-Seidel y SOR (w = 1:1) para resolver el siguiente sistema lineal con una precisión de cuatro cifras decimales.\n",
    "![EJ3.jpg](EJ3.jpg)\n",
    "## Compare el número de iteraciones necesario en cada algoritmo. Analice el error cometido si la solución exacta es x = (1;-1; 1;-1)^T"
   ]
  },
  {
   "cell_type": "code",
   "execution_count": 46,
   "id": "381cdbf2",
   "metadata": {},
   "outputs": [
    {
     "name": "stdout",
     "output_type": "stream",
     "text": [
      "iteración:  1\n",
      "x( 0 ):  0.42857142857142855\n",
      "x( 1 ):  -0.6785714285714286\n",
      "x( 2 ):  1.1071428571428572\n",
      "x( 3 ):  -0.6845238095238096\n",
      "  error:  1.5292059393648267\n",
      "\n",
      "iteración:  2\n",
      "x( 0 ):  0.8792517006802721\n",
      "x( 1 ):  -0.9060374149659864\n",
      "x( 2 ):  1.0486819727891157\n",
      "x( 3 ):  -0.9203160430839002\n",
      "  error:  0.5602402476092095\n",
      "\n",
      "iteración:  3\n",
      "x( 0 ):  0.9707644962747004\n",
      "x( 1 ):  -0.9764245728053126\n",
      "x( 2 ):  1.0126121132977\n",
      "x( 3 ):  -0.9802943374770544\n",
      "  error:  0.1350087934478646\n",
      "\n",
      "iteración:  4\n",
      "x( 0 ):  0.9928036230081602\n",
      "x( 1 ):  -0.9941740372452836\n",
      "x( 2 ):  1.0031273213827765\n",
      "x( 3 ):  -0.9951379998540185\n",
      "  error:  0.03333259944123763\n",
      "\n",
      "iteración:  5\n",
      "x( 0 ):  0.9982253369051567\n",
      "x( 1 ):  -0.9985626670766492\n",
      "x( 2 ):  1.0007718342627845\n",
      "x( 3 ):  -0.9988006956168046\n",
      "  error:  0.008223059844170936\n",
      "\n",
      "iteración:  6\n",
      "x( 0 ):  0.9995622703675775\n",
      "x( 1 ):  -0.9996454577001483\n",
      "x( 2 ):  1.0001903936876932\n",
      "x( 3 ):  -0.9997041770746264\n",
      "  error:  0.002028343783550615\n",
      "\n",
      "iteración:  7\n",
      "x( 0 ):  0.999892029362442\n",
      "x( 1 ):  -0.9999125479389619\n",
      "x( 2 ):  1.000046963071954\n",
      "x( 3 ):  -0.9999270319218091\n",
      "  error:  0.0005003147157616942\n",
      "\n",
      "iteración:  8\n",
      "x( 0 ):  0.999973367836362\n",
      "x( 1 ):  -0.9999784289599976\n",
      "x( 2 ):  1.0000115839786383\n",
      "x( 3 ):  -0.9999820016023468\n",
      "  error:  0.00012340827482221423\n",
      "\n",
      "iteración:  9\n",
      "x( 0 ):  0.9999934308776185\n",
      "x( 1 ):  -0.999994679260289\n",
      "x( 2 ):  1.000002857318818\n",
      "x( 3 ):  -0.9999955604928328\n",
      "  error:  3.0440039205757876e-05\n",
      "\n"
     ]
    }
   ],
   "source": [
    "import numpy as np\n",
    "A=np.array([[7,1,-1,2],\n",
    "           [1,8,0,-2],\n",
    "           [-1,0,4,-1],\n",
    "           [2,-2,-1,6]])\n",
    "b=([3,-5,4,-3])\n",
    "tol = 0.0001        \n",
    "error = 100000        \n",
    "kmax = 100            \n",
    "n = len(A)            \n",
    "x = np.zeros(n)       \n",
    "x1 = np.copy(x)       \n",
    "k = 1                 \n",
    "error1 = [0]\n",
    "\n",
    "while k < kmax and error > tol:\n",
    "    print(\"iteración: \",k) \n",
    "    for i in range(n):\n",
    "        sumatoria = 0\n",
    "        for j in range(n):\n",
    "            if i != j:\n",
    "                sumatoria += (A[i][j] * x[j]) # Esta es la fórmula interna de Gauss-Seidel de las sumatorias\n",
    "        x[i] = (b[i]-sumatoria) / A[i][i] # Esta es la fórmula de Gauss-Seidel de las sumatorias incluyendo las sumatorias\n",
    "        print(\"x(\",i,\"): \",x[i])\n",
    "\n",
    "    error = np.linalg.norm(x-x1) # cálculo de la norma vectorial\n",
    "    error1.append(error)         \n",
    "    x1 = np.copy(x)              \n",
    "\n",
    "    print(\"  error: \", error1[k])\n",
    "    print()\n",
    "    \n",
    "    k += 1 "
   ]
  },
  {
   "cell_type": "code",
   "execution_count": 47,
   "id": "10988015",
   "metadata": {},
   "outputs": [
    {
     "name": "stdout",
     "output_type": "stream",
     "text": [
      "iteración:  1\n",
      "x( 0 ):  0.6\n",
      "x( 1 ):  -0.9799999999999999\n",
      "x( 2 ):  1.6099999999999999\n",
      "x( 3 ):  -1.0616666666666665\n",
      "  error:  2.244913386104486\n",
      "\n",
      "iteración:  2\n",
      "x( 0 ):  1.3026666666666666\n",
      "x( 1 ):  -1.0825500000000001\n",
      "x( 2 ):  0.84035\n",
      "x( 3 ):  -1.1923527777777776\n",
      "  error:  1.0553184017545556\n",
      "\n",
      "iteración:  3\n",
      "x( 0 ):  0.9404544444444445\n",
      "x( 1 ):  -1.023883\n",
      "x( 2 ):  0.9756955833333334\n",
      "x( 3 ):  -0.9120873935185186\n",
      "  error:  0.48115135181976865\n",
      "\n",
      "iteración:  4\n",
      "x( 0 ):  0.9885688962962963\n",
      "x( 1 ):  -0.9576769445833335\n",
      "x( 2 ):  1.036490292638889\n",
      "x( 3 ):  -1.001565366720679\n",
      "  error:  0.13564861451099464\n",
      "\n",
      "iteración:  5\n",
      "x( 0 ):  1.0040320356141978\n",
      "x( 1 ):  -1.0181827067513889\n",
      "x( 2 ):  0.9862672170571759\n",
      "x( 3 ):  -1.012945049102328\n",
      "  error:  0.08094387206636333\n",
      "\n",
      "iteración:  6\n",
      "x( 0 ):  1.004455190156965\n",
      "x( 1 ):  -0.998037342762728\n",
      "x( 2 ):  1.0025216625462527\n",
      "x( 3 ):  -0.9953967744607997\n",
      "  error:  0.031275608564096294\n",
      "\n",
      "iteración:  7\n",
      "x( 0 ):  0.9964884347833303\n",
      "x( 1 ):  -0.9985594100432714\n",
      "x( 2 ):  0.9993734160943846\n",
      "x( 3 ):  -0.9996764873794044\n",
      "  error:  0.009590054421958392\n",
      "\n",
      "iteración:  8\n",
      "x( 0 ):  1.0008617862659608\n",
      "x( 1 ):  -1.0006138191620262\n",
      "x( 2 ):  1.0006654881725408\n",
      "x( 3 ):  -1.0006627403410393\n",
      "  error:  0.005097935383793493\n",
      "\n",
      "iteración:  9\n",
      "x( 0 ):  1.000176243096945\n",
      "x( 1 ):  -1.0000172739965185\n",
      "x( 2 ):  0.9995635306955507\n",
      "x( 3 ):  -0.9999270546782386\n",
      "  error:  0.0016066671237750423\n",
      "\n",
      "iteración:  10\n",
      "x( 0 ):  0.9998164855709313\n",
      "x( 1 ):  -0.9999354445136891\n",
      "x( 2 ):  1.000135888534222\n",
      "x( 3 ):  -0.9998817048435424\n",
      "  error:  0.0006824746477189008\n",
      "\n",
      "iteración:  11\n",
      "x( 0 ):  1.0000403543186267\n",
      "x( 1 ):  -0.9999914808955239\n",
      "x( 2 ):  1.0000011719025905\n",
      "x( 3 ):  -1.0000619010519156\n",
      "  error:  0.0003222988312638535\n",
      "\n",
      "iteración:  12\n",
      "x( 0 ):  1.0000071492529385\n",
      "x( 1 ):  -1.0000263241292253\n",
      "x( 2 ):  0.9999803681093218\n",
      "x( 3 ):  -0.9999954412654019\n",
      "  error:  8.46541691823177e-05\n",
      "\n",
      "iteración:  13\n",
      "x( 0 ):  0.9999966552526947\n",
      "x( 1 ):  -0.999987289460422\n",
      "x( 2 ):  1.0000082776518238\n",
      "x( 3 ):  -0.9999923995745348\n",
      "  error:  4.921406156477472e-05\n",
      "\n",
      "iteración:  14\n",
      "x( 0 ):  0.9999974111511851\n",
      "x( 1 ):  -1.0000019710183758\n",
      "x( 2 ):  0.9999984429910983\n",
      "x( 3 ):  -1.0000031151513917\n",
      "  error:  2.068003059574668e-05\n",
      "\n",
      "iteración:  15\n",
      "x( 0 ):  1.0000023644019773\n",
      "x( 1 ):  -1.000000715665983\n",
      "x( 2 ):  1.0000003600412657\n",
      "x( 3 ):  -1.0000001072948628\n",
      "  error:  6.231603748946202e-06\n",
      "\n",
      "iteración:  16\n",
      "x( 0 ):  0.9999993122986041\n",
      "x( 1 ):  -0.9999996309390645\n",
      "x( 2 ):  0.9999995777348032\n",
      "x( 3 ):  -0.9999995624548462\n",
      "  error:  3.376510259639369e-06\n",
      "\n",
      "iteración:  17\n",
      "x( 0 ):  0.9999999417972705\n",
      "x( 1 ):  -0.9999999842980926\n",
      "x( 2 ):  1.0000003016759271\n",
      "x( 3 ):  -1.000000070138181\n",
      "  error:  1.1414746134242376e-06\n",
      "\n",
      "iteración:  18\n",
      "x( 0 ):  1.000000108531168\n",
      "x( 1 ):  -1.000000049822081\n",
      "x( 2 ):  0.9999998927671745\n",
      "x( 3 ):  -1.0000000708639027\n",
      "  error:  4.464308236496417e-07\n",
      "\n"
     ]
    }
   ],
   "source": [
    "import numpy as np\n",
    "A=np.array([[7,1,-1,2],\n",
    "           [1,8,0,-2],\n",
    "           [-1,0,4,-1],\n",
    "           [2,-2,-1,6]])\n",
    "tol = 0.000001\n",
    "error = 100000\n",
    "kmax = 100\n",
    "n = len(A)\n",
    "x = np.zeros(n)\n",
    "x1 = np.copy(x)\n",
    "k = 1\n",
    "error1=[0]\n",
    "lambd = 1.4\n",
    "\n",
    "while k < kmax and error > tol:\n",
    "    print(\"iteración: \",k)\n",
    "    for i in range(n):\n",
    "        sumatoria = 0\n",
    "        for j in range(n):\n",
    "            if i != j:\n",
    "                sumatoria += (A[i][j] * x[j])\n",
    "        x[i] = (lambd*((b[i]-sumatoria) / A[i][i]))+(1-lambd)*x[i]\n",
    "        print(\"x(\",i,\"): \",x[i])\n",
    "\n",
    "    error = np.linalg.norm(x-x1)\n",
    "    error1.append(error)         \n",
    "    x1 = np.copy(x) \n",
    "\n",
    "    print(\"  error: \", error1[k])\n",
    "    print()\n",
    "    \n",
    "    k += 1"
   ]
  },
  {
   "cell_type": "markdown",
   "id": "a2174b71",
   "metadata": {},
   "source": [
    "### 4. Programe un algoritmo para encontrar la norma de Frobenius para una matriz cuadrada de cualquier dimensión."
   ]
  },
  {
   "cell_type": "code",
   "execution_count": 48,
   "id": "2563e0f7",
   "metadata": {},
   "outputs": [
    {
     "name": "stdout",
     "output_type": "stream",
     "text": [
      "[[ 1  2  3  4]\n",
      " [ 5  6  7  8]\n",
      " [ 9 10 11 12]\n",
      " [13 14 15 16]]\n"
     ]
    },
    {
     "data": {
      "text/plain": [
       "38.67815921162743"
      ]
     },
     "execution_count": 48,
     "metadata": {},
     "output_type": "execute_result"
    }
   ],
   "source": [
    "import numpy as np\n",
    "m=np.arange(1,17).reshape(4,4)\n",
    "print(m)\n",
    "np.linalg.norm(m, 'fro')"
   ]
  },
  {
   "cell_type": "markdown",
   "id": "5fd28476",
   "metadata": {},
   "source": [
    "### URL codigo en GITHUB\n",
    "### https://github.com/aacosios/A3_Cosios_Andres_MetodosNumericos.git"
   ]
  },
  {
   "cell_type": "code",
   "execution_count": null,
   "id": "d4bca6b7",
   "metadata": {},
   "outputs": [],
   "source": []
  }
 ],
 "metadata": {
  "kernelspec": {
   "display_name": "Python 3",
   "language": "python",
   "name": "python3"
  },
  "language_info": {
   "codemirror_mode": {
    "name": "ipython",
    "version": 3
   },
   "file_extension": ".py",
   "mimetype": "text/x-python",
   "name": "python",
   "nbconvert_exporter": "python",
   "pygments_lexer": "ipython3",
   "version": "3.8.8"
  }
 },
 "nbformat": 4,
 "nbformat_minor": 5
}
